{
 "cells": [
  {
   "cell_type": "code",
   "execution_count": 1,
   "id": "9d937551",
   "metadata": {},
   "outputs": [],
   "source": [
    "from astropy.io import fits"
   ]
  },
  {
   "cell_type": "code",
   "execution_count": 2,
   "id": "782a7749",
   "metadata": {},
   "outputs": [],
   "source": [
    "filter_name = (\"f090w-clear_drc\", \"f105w_drz\", \"f115wn-clear_drc\", \"f125w_drz\", \"f140w_drz\", \"f150w-clear_drc\", \n",
    "               \"f160w_drz\", \"f200w-clear_drc\", \"f200wn-clear_drc\", \"f277w-clear_drc\", \n",
    "               \"f356w-clear_drc\", \"f435w_drc\", \"f444w-clear_drc\", \"f606w_drc\", \n",
    "               \"f770w_drz\", \"f814w_drc\", \"f1000w_drz\", \"f1500w_drz\", \"f1800w_drz\", \"ir_drc\")"
   ]
  },
  {
   "cell_type": "code",
   "execution_count": 7,
   "id": "2bcbad63",
   "metadata": {},
   "outputs": [
    {
     "name": "stdout",
     "output_type": "stream",
     "text": [
      "f090w-clear_drc JWST\n",
      "f105w_drz HST\n",
      "f115wn-clear_drc JWST\n",
      "f125w_drz HST\n",
      "f140w_drz HST\n",
      "f150w-clear_drc JWST\n",
      "f160w_drz HST\n",
      "f200w-clear_drc JWST\n",
      "f200wn-clear_drc JWST\n",
      "f277w-clear_drc JWST\n",
      "f356w-clear_drc JWST\n",
      "f435w_drc HST\n",
      "f444w-clear_drc JWST\n",
      "f606w_drc HST\n",
      "f770w_drz JWST\n",
      "f814w_drc HST\n",
      "f1000w_drz JWST\n",
      "f1500w_drz JWST\n",
      "f1800w_drz JWST\n"
     ]
    }
   ],
   "source": [
    "for j in range(0, 19):\n",
    "    image_fits = fits.open(\"./image_raw/smacs0723-grizli-v4.0-{filter_name_here}_sci.fits\".format(filter_name_here = filter_name[j]))\n",
    "    #image_fits.info()\n",
    "    image_header = image_fits[0].header\n",
    "    image_telescope = image_header['TELESCOP']\n",
    "    print(filter_name[j], image_telescope)"
   ]
  },
  {
   "cell_type": "code",
   "execution_count": null,
   "id": "77868d31",
   "metadata": {},
   "outputs": [],
   "source": []
  }
 ],
 "metadata": {
  "kernelspec": {
   "display_name": "Python 3 (ipykernel)",
   "language": "python",
   "name": "python3"
  },
  "language_info": {
   "codemirror_mode": {
    "name": "ipython",
    "version": 3
   },
   "file_extension": ".py",
   "mimetype": "text/x-python",
   "name": "python",
   "nbconvert_exporter": "python",
   "pygments_lexer": "ipython3",
   "version": "3.9.13"
  }
 },
 "nbformat": 4,
 "nbformat_minor": 5
}
