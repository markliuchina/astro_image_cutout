{
 "cells": [
  {
   "cell_type": "code",
   "execution_count": 78,
   "metadata": {},
   "outputs": [],
   "source": [
    "from astrocut import fits_cut\n",
    "from astropy import units as u\n",
    "from astropy.io import fits\n",
    "from astropy.coordinates import SkyCoord\n",
    "from astropy.visualization import simple_norm, SqrtStretch, SinhStretch, LogStretch\n",
    "from astropy.table import Table\n",
    "from astropy.nddata import Cutout2D\n",
    "from astropy.wcs import WCS\n",
    "import matplotlib.pyplot as plt\n",
    "import os"
   ]
  },
  {
   "cell_type": "code",
   "execution_count": 2,
   "metadata": {},
   "outputs": [
    {
     "name": "stdout",
     "output_type": "stream",
     "text": [
      "Filename: ./catalog_muse.dat.fits\n",
      "No.    Name      Ver    Type      Cards   Dimensions   Format\n",
      "  0  PRIMARY       1 PrimaryHDU     114   ()      \n",
      "  1  muse.dat      1 TableHDU        69   78R x 9C   [I2, F12.8, F12.8, F6.4, I1, I1, F6.3, F7.3, F7.3]   \n"
     ]
    }
   ],
   "source": [
    "#首先我们打开文章作者提供的catalog\n",
    "muse_cata_fits = fits.open(\"./catalog_muse.dat.fits\")\n",
    "muse_cata_fits.info()"
   ]
  },
  {
   "cell_type": "code",
   "execution_count": 3,
   "metadata": {},
   "outputs": [
    {
     "data": {
      "text/html": [
       "<div><i>Table length=78</i>\n",
       "<table id=\"table139984114880960\" class=\"table-striped table-bordered table-condensed\">\n",
       "<thead><tr><th>ID</th><th>RAdeg</th><th>DEdeg</th><th>z</th><th>qf</th><th>mult</th><th>Ampli</th><th>e_Ampli</th><th>E_Ampli</th></tr></thead>\n",
       "<thead><tr><th>int16</th><th>float64</th><th>float64</th><th>float64</th><th>int16</th><th>int16</th><th>float64</th><th>float64</th><th>float64</th></tr></thead>\n",
       "<tr><td>1</td><td>110.8284294</td><td>-73.4602574</td><td>0.0</td><td>4</td><td>1</td><td>1.0</td><td>0.0</td><td>0.0</td></tr>\n",
       "<tr><td>2</td><td>110.8479302</td><td>-73.4616212</td><td>0.0</td><td>4</td><td>1</td><td>1.0</td><td>0.0</td><td>0.0</td></tr>\n",
       "<tr><td>3</td><td>110.8334991</td><td>-73.4484003</td><td>0.0</td><td>4</td><td>1</td><td>1.0</td><td>0.0</td><td>0.0</td></tr>\n",
       "<tr><td>4</td><td>110.8080566</td><td>-73.4466289</td><td>0.0</td><td>4</td><td>1</td><td>1.0</td><td>0.0</td><td>0.0</td></tr>\n",
       "<tr><td>5</td><td>110.8075712</td><td>-73.4469594</td><td>0.0</td><td>4</td><td>1</td><td>1.0</td><td>0.0</td><td>0.0</td></tr>\n",
       "<tr><td>6</td><td>110.8261351</td><td>-73.4486167</td><td>0.0</td><td>4</td><td>1</td><td>1.0</td><td>0.0</td><td>0.0</td></tr>\n",
       "<tr><td>7</td><td>110.8235839</td><td>-73.4499063</td><td>0.0</td><td>4</td><td>1</td><td>1.0</td><td>0.0</td><td>0.0</td></tr>\n",
       "<tr><td>8</td><td>110.8235958</td><td>-73.4474173</td><td>0.0</td><td>4</td><td>1</td><td>1.0</td><td>0.0</td><td>0.0</td></tr>\n",
       "<tr><td>9</td><td>110.806675</td><td>-73.4516338</td><td>0.0</td><td>4</td><td>1</td><td>1.0</td><td>0.0</td><td>0.0</td></tr>\n",
       "<tr><td>10</td><td>110.8117026</td><td>-73.4532181</td><td>0.0</td><td>4</td><td>1</td><td>1.0</td><td>0.0</td><td>0.0</td></tr>\n",
       "<tr><td>...</td><td>...</td><td>...</td><td>...</td><td>...</td><td>...</td><td>...</td><td>...</td><td>...</td></tr>\n",
       "<tr><td>69</td><td>110.8222252</td><td>-73.4526676</td><td>1.4254</td><td>3</td><td>1</td><td>30.165</td><td>8.073</td><td>10.816</td></tr>\n",
       "<tr><td>70</td><td>110.8236935</td><td>-73.4518167</td><td>1.4254</td><td>3</td><td>2</td><td>45.141</td><td>6.609</td><td>9.898</td></tr>\n",
       "<tr><td>71</td><td>110.8405974</td><td>-73.4510474</td><td>1.4503</td><td>3</td><td>3</td><td>6.39</td><td>0.898</td><td>0.978</td></tr>\n",
       "<tr><td>72</td><td>110.8427896</td><td>-73.454649</td><td>1.4503</td><td>3</td><td>3</td><td>22.975</td><td>5.624</td><td>7.443</td></tr>\n",
       "<tr><td>73</td><td>110.8388169</td><td>-73.458723</td><td>1.4503</td><td>3</td><td>3</td><td>10.035</td><td>1.762</td><td>1.885</td></tr>\n",
       "<tr><td>74</td><td>110.8485993</td><td>-73.460687</td><td>1.4792</td><td>9</td><td>1</td><td>3.287</td><td>0.29</td><td>0.288</td></tr>\n",
       "<tr><td>75</td><td>110.8520623</td><td>-73.4525378</td><td>1.4816</td><td>3</td><td>1</td><td>9.988</td><td>0.928</td><td>1.051</td></tr>\n",
       "<tr><td>76</td><td>110.8519575</td><td>-73.4523356</td><td>1.4817</td><td>3</td><td>1</td><td>9.29</td><td>0.861</td><td>0.979</td></tr>\n",
       "<tr><td>77</td><td>110.8053717</td><td>-73.4499939</td><td>3.3136</td><td>9</td><td>1</td><td>85.614</td><td>47.254</td><td>213.005</td></tr>\n",
       "<tr><td>78</td><td>110.7998624</td><td>-73.4549695</td><td>3.4287</td><td>9</td><td>1</td><td>17.69</td><td>3.832</td><td>4.954</td></tr>\n",
       "</table></div>"
      ],
      "text/plain": [
       "<Table length=78>\n",
       "  ID     RAdeg       DEdeg       z      qf   mult  Ampli  e_Ampli E_Ampli\n",
       "int16   float64     float64   float64 int16 int16 float64 float64 float64\n",
       "----- ----------- ----------- ------- ----- ----- ------- ------- -------\n",
       "    1 110.8284294 -73.4602574     0.0     4     1     1.0     0.0     0.0\n",
       "    2 110.8479302 -73.4616212     0.0     4     1     1.0     0.0     0.0\n",
       "    3 110.8334991 -73.4484003     0.0     4     1     1.0     0.0     0.0\n",
       "    4 110.8080566 -73.4466289     0.0     4     1     1.0     0.0     0.0\n",
       "    5 110.8075712 -73.4469594     0.0     4     1     1.0     0.0     0.0\n",
       "    6 110.8261351 -73.4486167     0.0     4     1     1.0     0.0     0.0\n",
       "    7 110.8235839 -73.4499063     0.0     4     1     1.0     0.0     0.0\n",
       "    8 110.8235958 -73.4474173     0.0     4     1     1.0     0.0     0.0\n",
       "    9  110.806675 -73.4516338     0.0     4     1     1.0     0.0     0.0\n",
       "   10 110.8117026 -73.4532181     0.0     4     1     1.0     0.0     0.0\n",
       "  ...         ...         ...     ...   ...   ...     ...     ...     ...\n",
       "   69 110.8222252 -73.4526676  1.4254     3     1  30.165   8.073  10.816\n",
       "   70 110.8236935 -73.4518167  1.4254     3     2  45.141   6.609   9.898\n",
       "   71 110.8405974 -73.4510474  1.4503     3     3    6.39   0.898   0.978\n",
       "   72 110.8427896  -73.454649  1.4503     3     3  22.975   5.624   7.443\n",
       "   73 110.8388169  -73.458723  1.4503     3     3  10.035   1.762   1.885\n",
       "   74 110.8485993  -73.460687  1.4792     9     1   3.287    0.29   0.288\n",
       "   75 110.8520623 -73.4525378  1.4816     3     1   9.988   0.928   1.051\n",
       "   76 110.8519575 -73.4523356  1.4817     3     1    9.29   0.861   0.979\n",
       "   77 110.8053717 -73.4499939  3.3136     9     1  85.614  47.254 213.005\n",
       "   78 110.7998624 -73.4549695  3.4287     9     1   17.69   3.832   4.954"
      ]
     },
     "execution_count": 3,
     "metadata": {},
     "output_type": "execute_result"
    }
   ],
   "source": [
    "#显示catalog为表格的形式，\n",
    "member_catalog = muse_cata_fits[1].data\n",
    "Table(member_catalog)"
   ]
  },
  {
   "cell_type": "code",
   "execution_count": 4,
   "metadata": {},
   "outputs": [
    {
     "data": {
      "text/plain": [
       "XTENSION= 'TABLE   '           / Ascii Table Extension                          \n",
       "BITPIX  =                    8 / Character data                                 \n",
       "NAXIS   =                    2 / Simple 2-D matrix                              \n",
       "NAXIS1  =                   62 / Number of bytes per record                     \n",
       "NAXIS2  =                   78 / Number of records                              \n",
       "PCOUNT  =                    0 / Get rid of random parameters                   \n",
       "GCOUNT  =                    1 / Only one group (isn't it obvious?)             \n",
       "TFIELDS =                    9 / Number of data fields (columns)                \n",
       "EQUINOX =                2000. / Equinox of coordinates (J system)              \n",
       "EXTNAME = 'muse.dat'           / MUSE redshift catalogue (table A1)             \n",
       "         =======================================================================\n",
       "TBCOL1  =                    1 / ============== Start column +0                 \n",
       "TFORM1  = 'I2      '           / Fortran Format                                 \n",
       "TDISP1  = 'I2      '           / Display Format for Binary Tables               \n",
       "TTYPE1  = 'ID      '           / Sequential number                              \n",
       "TBCOL2  =                    4 / ============== Start column +3                 \n",
       "TUNIT2  = 'deg     '           / Unit: degree                                   \n",
       "TFORM2  = 'F12.8   '           / Fortran Format                                 \n",
       "TDISP2  = 'F12.8   '           / Display Format for Binary Tables               \n",
       "TTYPE2  = 'RAdeg   '           / Right ascension (J2000)                        \n",
       "TAMIN2  =           0.00000000 / Allowed minimal value                          \n",
       "TAMAX2  =         360.00000000 / Allowed maximal value EXCLUSIVE (never reached)\n",
       "TBCOL3  =                   17 / ============== Start column +16                \n",
       "TUNIT3  = 'deg     '           / Unit: degree                                   \n",
       "TFORM3  = 'F12.8   '           / Fortran Format                                 \n",
       "TDISP3  = 'F12.8   '           / Display Format for Binary Tables               \n",
       "TTYPE3  = 'DEdeg   '           / Declination (J2000)                            \n",
       "TAMIN3  =         -90.00000000 / Allowed minimal value                          \n",
       "TAMAX3  =          90.00000000 / Allowed maximal value                          \n",
       "TBCOL4  =                   30 / ============== Start column +29                \n",
       "TFORM4  = 'F6.4    '           / Fortran Format                                 \n",
       "TDISP4  = 'F6.4    '           / Display Format for Binary Tables               \n",
       "TTYPE4  = 'z       '           / MUSE redshift                                  \n",
       "TBCOL5  =                   37 / ============== Start column +36                \n",
       "TFORM5  = 'I1      '           / Fortran Format                                 \n",
       "TDISP5  = 'I1      '           / Display Format for Binary Tables               \n",
       "TTYPE5  = 'qf      '           / [2/9] Quality flag (1)                         \n",
       "TAMIN5  =                    2 / Allowed minimal value                          \n",
       "TAMAX5  =                    9 / Allowed maximal value                          \n",
       "TBCOL6  =                   39 / ============== Start column +38                \n",
       "TFORM6  = 'I1      '           / Fortran Format                                 \n",
       "TDISP6  = 'I1      '           / Display Format for Binary Tables               \n",
       "TTYPE6  = 'mult    '           / [1/3] Number of entries of the same object in  \n",
       "                                 this catalogue used to indicate multiply lensed\n",
       "                                 sources                                        \n",
       "TAMIN6  =                    1 / Allowed minimal value                          \n",
       "TAMAX6  =                    3 / Allowed maximal value                          \n",
       "TBCOL7  =                   41 / ============== Start column +40                \n",
       "TFORM7  = 'F6.3    '           / Fortran Format                                 \n",
       "TDISP7  = 'F6.3    '           / Display Format for Binary Tables               \n",
       "TTYPE7  = 'Ampli   '           / Median lensing amplification from our lens     \n",
       "                                 model MCMC                                     \n",
       "TBCOL8  =                   48 / ============== Start column +47                \n",
       "TFORM8  = 'F7.3    '           / Fortran Format                                 \n",
       "TDISP8  = 'F7.3    '           / Display Format for Binary Tables               \n",
       "TTYPE8  = 'e_Ampli '           / Lower error on Ampli (68% confidence level)    \n",
       "TAMIN8  =                0.000 / Allowed minimal value                          \n",
       "TBCOL9  =                   56 / ============== Start column +55                \n",
       "TFORM9  = 'F7.3    '           / Fortran Format                                 \n",
       "TDISP9  = 'F7.3    '           / Display Format for Binary Tables               \n",
       "TTYPE9  = 'E_Ampli '           / Upper error on Ampli (68% confidence level)    \n",
       "TAMIN9  =                0.000 / Allowed minimal value                          \n",
       "         =======================================================================\n",
       "COMMENT  Note (1): Quality flag as follows:                                     \n",
       "         3 = secure measurement                                                 \n",
       "         2 = probable                                                           \n",
       "         9 = redshift estimated from a single emission line                     \n",
       "         4 = star                                                               \n",
       "         ======================================================================="
      ]
     },
     "execution_count": 4,
     "metadata": {},
     "output_type": "execute_result"
    }
   ],
   "source": [
    "header = muse_cata_fits[1].header\n",
    "header"
   ]
  },
  {
   "cell_type": "code",
   "execution_count": 5,
   "metadata": {},
   "outputs": [
    {
     "name": "stdout",
     "output_type": "stream",
     "text": [
      "20 id =  21 | ra =  110.8495683 de =  -73.4625124 qf =  3\n",
      "21 id =  22 | ra =  110.8362871 de =  -73.4568771 qf =  3\n",
      "22 id =  23 | ra =  110.8252476 de =  -73.4545586 qf =  3\n",
      "23 id =  24 | ra =  110.8243781 de =  -73.459905 qf =  3\n",
      "24 id =  25 | ra =  110.8557313 de =  -73.4557427 qf =  3\n",
      "25 id =  26 | ra =  110.8530957 de =  -73.4566588 qf =  3\n",
      "26 id =  27 | ra =  110.8161206 de =  -73.4511937 qf =  3\n",
      "27 id =  28 | ra =  110.8456507 de =  -73.4513365 qf =  3\n",
      "28 id =  29 | ra =  110.8538419 de =  -73.450063 qf =  3\n",
      "29 id =  30 | ra =  110.8185163 de =  -73.4552171 qf =  3\n",
      "30 id =  31 | ra =  110.8045012 de =  -73.4561504 qf =  3\n",
      "31 id =  32 | ra =  110.8550113 de =  -73.4501908 qf =  3\n",
      "32 id =  33 | ra =  110.8377986 de =  -73.4536001 qf =  3\n",
      "33 id =  34 | ra =  110.8326866 de =  -73.4569116 qf =  3\n",
      "34 id =  35 | ra =  110.8562438 de =  -73.4506971 qf =  2\n",
      "35 id =  36 | ra =  110.8257093 de =  -73.4586938 qf =  3\n",
      "36 id =  37 | ra =  110.8376015 de =  -73.4561834 qf =  3\n",
      "37 id =  38 | ra =  110.8024677 de =  -73.4586733 qf =  3\n",
      "38 id =  39 | ra =  110.818238 de =  -73.4546131 qf =  3\n",
      "39 id =  40 | ra =  110.8401314 de =  -73.4558252 qf =  3\n",
      "40 id =  41 | ra =  110.8268052 de =  -73.4546385 qf =  3\n",
      "41 id =  42 | ra =  110.826452 de =  -73.4549705 qf =  3\n",
      "42 id =  43 | ra =  110.8184078 de =  -73.4482682 qf =  2\n",
      "43 id =  44 | ra =  110.8006165 de =  -73.4485206 qf =  3\n",
      "44 id =  45 | ra =  110.8487541 de =  -73.4603147 qf =  3\n",
      "45 id =  46 | ra =  110.8368347 de =  -73.4565146 qf =  3\n"
     ]
    }
   ],
   "source": [
    "#总共成员星系有26个，并不是23个，qf=3说明是比较好的测量结果\n",
    "for i in range(0, 78):\n",
    "    if member_catalog.Ampli[i] == 1.0 and member_catalog.z[i] != 0:\n",
    "        print(i, \"id = \",member_catalog.ID[i], \"|\", \"ra = \", member_catalog.RAdeg[i],\"de = \", member_catalog.DEdeg[i], \"qf = \", member_catalog.qf[i]);"
   ]
  },
  {
   "cell_type": "code",
   "execution_count": 6,
   "metadata": {},
   "outputs": [
    {
     "name": "stdout",
     "output_type": "stream",
     "text": [
      "Filename: ./image_raw/smacs0723-grizli-v4.0-f090w-clear_drc_sci.fits\n",
      "No.    Name      Ver    Type      Cards   Dimensions   Format\n",
      "  0  PRIMARY       1 PrimaryHDU     123   (24000, 24000)   float32   \n"
     ]
    },
    {
     "data": {
      "image/png": "[encoded data removed]",
      "text/plain": [
       "<Figure size 400x400 with 1 Axes>"
      ]
     },
     "metadata": {},
     "output_type": "display_data"
    }
   ],
   "source": [
    "#打开图像文件，并且呈现出来\n",
    "f090w_fits = fits.open(\"./image_raw/smacs0723-grizli-v4.0-f090w-clear_drc_sci.fits\")\n",
    "f090w_fits.info()\n",
    "f090w_image = f090w_fits[0].data\n",
    "f090w_norm = simple_norm(f090w_image, stretch = 'log')\n",
    "\n",
    "wcs = WCS(f090w_fits[0])\n",
    "\n",
    "plt.figure(figsize = (4, 4))\n",
    "plt.subplot(projection = wcs)\n",
    "plt.imshow(f090w_image, cmap = 'Greys', norm = f090w_norm, origin = 'lower')\n",
    "plt.title(\"smacs0723-grizli-v4.0-f090w-clear_drc_sci.fits\")\n",
    "plt.grid(color = 'blue', ls = 'solid', lw = 0.2)\n",
    "plt.xlabel('Galactic Longitude')\n",
    "plt.ylabel('Galactic Latitude')"
   ]
  },
  {
   "cell_type": "code",
   "execution_count": 69,
   "metadata": {},
   "outputs": [
    {
     "data": {
      "image/png": "[encoded data removed]",
      "text/plain": [
       "<Figure size 640x480 with 1 Axes>"
      ]
     },
     "metadata": {},
     "output_type": "display_data"
    }
   ],
   "source": [
    "position = SkyCoord(member_catalog.RAdeg[70]*u.deg, member_catalog.DEdeg[70]*u.deg, frame = 'fk5')\n",
    "size = u.Quantity((1.5, 1.5), u.arcsec)\n",
    "cutout = Cutout2D(f090w_image, position, size, wcs = wcs)\n",
    "\n",
    "plt.subplot(projection = wcs)\n",
    "plt.imshow(cutout.data, cmap = 'Greys', norm = f090w_norm, origin = 'lower')\n",
    "\n",
    "#标题与轴标，稀释掉以输出无边框的图像\n",
    "#plt.title(\"cutout\")\n",
    "#plt.grid(color = 'blue', ls = 'dashed', lw = 0.2)\n",
    "#plt.xlabel('ra')\n",
    "#plt.ylabel('de')\n",
    "\n",
    "#去掉x轴（仅仅是不显示，但是还是要把这一项turn on）\n",
    "plt.xticks([])\n",
    "#去掉y轴（仅仅是不显示，但是还是要把这一项turn on）\n",
    "plt.yticks([])\n",
    "#去掉坐标轴（仅仅是不显示，但是还是要把这一项turn on）\n",
    "plt.axis('off')\n",
    "#为了输出透明图像，还要把坐标轴的locator参数给设置为null\n",
    "plt.gca().xaxis.set_major_locator(plt.NullLocator())\n",
    "plt.gca().yaxis.set_major_locator(plt.NullLocator())\n",
    "plt.subplots_adjust(top = 1, bottom = 0, right = 1, left = 0, hspace = 0, wspace = 0)\n",
    "plt.margins(0,0)\n",
    "plt.savefig('./example.png', pad_inches = 0, bbox_inches = 'tight', dpi = 200)"
   ]
  },
  {
   "cell_type": "code",
   "execution_count": 50,
   "metadata": {},
   "outputs": [
    {
     "name": "stdout",
     "output_type": "stream",
     "text": [
      "ID_21_f090w\n",
      "ID = 21, ra = 110.8495683, de = -73.4625124, z = 0.3217\n",
      "./image_cutout/f090w/id_21_f090w.png\n",
      "ID_22_f090w\n",
      "ID = 22, ra = 110.8362871, de = -73.4568771, z = 0.3241\n",
      "./image_cutout/f090w/id_22_f090w.png\n",
      "ID_23_f090w\n",
      "ID = 23, ra = 110.8252476, de = -73.4545586, z = 0.3774\n",
      "./image_cutout/f090w/id_23_f090w.png\n",
      "ID_24_f090w\n",
      "ID = 24, ra = 110.8243781, de = -73.459905, z = 0.3806\n",
      "./image_cutout/f090w/id_24_f090w.png\n",
      "ID_25_f090w\n",
      "ID = 25, ra = 110.8557313, de = -73.4557427, z = 0.3822\n",
      "./image_cutout/f090w/id_25_f090w.png\n",
      "ID_26_f090w\n",
      "ID = 26, ra = 110.8530957, de = -73.4566588, z = 0.3836\n",
      "./image_cutout/f090w/id_26_f090w.png\n",
      "ID_27_f090w\n",
      "ID = 27, ra = 110.8161206, de = -73.4511937, z = 0.3844\n",
      "./image_cutout/f090w/id_27_f090w.png\n",
      "ID_28_f090w\n",
      "ID = 28, ra = 110.8456507, de = -73.4513365, z = 0.3847\n",
      "./image_cutout/f090w/id_28_f090w.png\n",
      "ID_29_f090w\n",
      "ID = 29, ra = 110.8538419, de = -73.450063, z = 0.3848\n",
      "./image_cutout/f090w/id_29_f090w.png\n",
      "ID_30_f090w\n",
      "ID = 30, ra = 110.8185163, de = -73.4552171, z = 0.3849\n",
      "./image_cutout/f090w/id_30_f090w.png\n",
      "ID_31_f090w\n",
      "ID = 31, ra = 110.8045012, de = -73.4561504, z = 0.3864\n",
      "./image_cutout/f090w/id_31_f090w.png\n",
      "ID_32_f090w\n",
      "ID = 32, ra = 110.8550113, de = -73.4501908, z = 0.3865\n",
      "./image_cutout/f090w/id_32_f090w.png\n",
      "ID_33_f090w\n",
      "ID = 33, ra = 110.8377986, de = -73.4536001, z = 0.3865\n",
      "./image_cutout/f090w/id_33_f090w.png\n",
      "ID_34_f090w\n",
      "ID = 34, ra = 110.8326866, de = -73.4569116, z = 0.3869\n",
      "./image_cutout/f090w/id_34_f090w.png\n",
      "ID_35_f090w\n",
      "ID = 35, ra = 110.8562438, de = -73.4506971, z = 0.3872\n",
      "./image_cutout/f090w/id_35_f090w.png\n",
      "ID_36_f090w\n",
      "ID = 36, ra = 110.8257093, de = -73.4586938, z = 0.3888\n",
      "./image_cutout/f090w/id_36_f090w.png\n",
      "ID_37_f090w\n",
      "ID = 37, ra = 110.8376015, de = -73.4561834, z = 0.3896\n",
      "./image_cutout/f090w/id_37_f090w.png\n",
      "ID_38_f090w\n",
      "ID = 38, ra = 110.8024677, de = -73.4586733, z = 0.3905\n",
      "./image_cutout/f090w/id_38_f090w.png\n",
      "ID_39_f090w\n",
      "ID = 39, ra = 110.818238, de = -73.4546131, z = 0.3909\n",
      "./image_cutout/f090w/id_39_f090w.png\n",
      "ID_40_f090w\n",
      "ID = 40, ra = 110.8401314, de = -73.4558252, z = 0.3911\n",
      "./image_cutout/f090w/id_40_f090w.png\n",
      "ID_41_f090w\n",
      "ID = 41, ra = 110.8268052, de = -73.4546385, z = 0.3914\n",
      "./image_cutout/f090w/id_41_f090w.png\n",
      "ID_42_f090w\n",
      "ID = 42, ra = 110.826452, de = -73.4549705, z = 0.3915\n",
      "./image_cutout/f090w/id_42_f090w.png\n",
      "ID_43_f090w\n",
      "ID = 43, ra = 110.8184078, de = -73.4482682, z = 0.3932\n",
      "./image_cutout/f090w/id_43_f090w.png\n",
      "ID_44_f090w\n",
      "ID = 44, ra = 110.8006165, de = -73.4485206, z = 0.394\n",
      "./image_cutout/f090w/id_44_f090w.png\n",
      "ID_45_f090w\n",
      "ID = 45, ra = 110.8487541, de = -73.4603147, z = 0.397\n",
      "./image_cutout/f090w/id_45_f090w.png\n",
      "ID_46_f090w\n",
      "ID = 46, ra = 110.8368347, de = -73.4565146, z = 0.398\n",
      "./image_cutout/f090w/id_46_f090w.png\n"
     ]
    },
    {
     "data": {
      "image/png": "[encoded data removed]",
      "text/plain": [
       "<Figure size 640x480 with 1 Axes>"
      ]
     },
     "metadata": {},
     "output_type": "display_data"
    }
   ],
   "source": [
    "for i in range(0, 78):\n",
    "    if member_catalog.Ampli[i] == 1.0 and member_catalog.z[i] != 0:\n",
    "        position = SkyCoord(member_catalog.RAdeg[i]*u.deg, member_catalog.DEdeg[i]*u.deg, frame = 'fk5')\n",
    "        size = u.Quantity((2, 2), u.arcsec)\n",
    "        cutout = Cutout2D(f090w_image, position, size, wcs = wcs)\n",
    "        cutout_name = 'ID = {ID}, ra = {RA}, de = {DE}, z = {Z}'\\\n",
    "        .format(ID = member_catalog.ID[i], RA = member_catalog.RAdeg[i], DE = member_catalog.DEdeg[i], Z = member_catalog.z[i])\n",
    "        cutout_file_name = 'ID_{ID}_f090w'\\\n",
    "        .format(ID = member_catalog.ID[i])\n",
    "        cutout_file_path = './image_cutout/f090w/id_{ID}_f090w.png'\\\n",
    "        .format(ID = member_catalog.ID[i])\n",
    "        print(cutout_file_name)\n",
    "        print(cutout_name)\n",
    "        print(cutout_file_path)\n",
    "        plt.subplot(projection = wcs)\n",
    "        plt.imshow(cutout.data, cmap = 'Greys', norm = f090w_norm, origin = 'lower')\n",
    "        \n",
    "        #去掉坐标轴以及轴标、图标题\n",
    "        #plt.title(cutout_name)\n",
    "        #plt.grid(color = 'blue', ls = 'dashed', lw = 0.2)\n",
    "        #plt.xlabel('ra')\n",
    "        #plt.ylabel('de')\n",
    "        #去掉x轴（仅仅是不显示，但是还是要把这一项turn on）\n",
    "        plt.xticks([])\n",
    "        #去掉y轴（仅仅是不显示，但是还是要把这一项turn on）\n",
    "        plt.yticks([])\n",
    "        #去掉坐标轴（仅仅是不显示，但是还是要把这一项turn on）\n",
    "        plt.axis('off')\n",
    "        #为了输出透明图像，还要把坐标轴的locator参数给设置为null\n",
    "        plt.gca().xaxis.set_major_locator(plt.NullLocator())\n",
    "        plt.gca().yaxis.set_major_locator(plt.NullLocator())\n",
    "        plt.subplots_adjust(top = 1, bottom = 0, right = 1, left = 0, hspace = 0, wspace = 0)\n",
    "        plt.margins(0,0)\n",
    "        plt.savefig(\"./image_cutout/f090w/id_{ID}_f090w.png\".format(ID = member_catalog.ID[i]), dpi = 400, pad_inches = 0, bbox_inches = 'tight', )"
   ]
  },
  {
   "cell_type": "code",
   "execution_count": null,
   "metadata": {},
   "outputs": [],
   "source": [
    "#下面开始把filtername全部导入进去，总共是19个filters，index的范围为[0,18]"
   ]
  },
  {
   "cell_type": "code",
   "execution_count": 66,
   "metadata": {},
   "outputs": [],
   "source": [
    "filter_name = (\"f105w\", \"f115wn\", \"f125w\", \"f140w\", \"f150w-clear\", \n",
    "               \"f160w\", \"f200w-clear\", \"f200wn\", \"f277w\", \n",
    "               \"f356w\", \"f435w\", \"f444w-clear\", \"f606w\", \n",
    "               \"f770w\", \"f814w\", \"f1000w\", \"f1500w\", \"f1800w\", \"ir\")"
   ]
  },
  {
   "cell_type": "code",
   "execution_count": 77,
   "metadata": {},
   "outputs": [
    {
     "data": {
      "text/plain": [
       "'ir'"
      ]
     },
     "execution_count": 77,
     "metadata": {},
     "output_type": "execute_result"
    }
   ],
   "source": [
    "filter_name[18]"
   ]
  },
  {
   "cell_type": "code",
   "execution_count": null,
   "metadata": {},
   "outputs": [],
   "source": []
  }
 ],
 "metadata": {
  "kernelspec": {
   "display_name": "Python 3 (ipykernel)",
   "language": "python",
   "name": "python3"
  },
  "language_info": {
   "codemirror_mode": {
    "name": "ipython",
    "version": 3
   },
   "file_extension": ".py",
   "mimetype": "text/x-python",
   "name": "python",
   "nbconvert_exporter": "python",
   "pygments_lexer": "ipython3",
   "version": "3.9.13"
  },
  "vscode": {
   "interpreter": {
    "hash": "caf1c2fcf97217de91eafa76b907d50f9ea378f5ffbee7f571142d119bb6a771"
   }
  }
 },
 "nbformat": 4,
 "nbformat_minor": 2
}
